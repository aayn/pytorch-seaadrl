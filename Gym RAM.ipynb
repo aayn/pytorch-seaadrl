{
 "cells": [
  {
   "cell_type": "markdown",
   "id": "official-polls",
   "metadata": {},
   "source": [
    "# Gym RAM"
   ]
  },
  {
   "cell_type": "code",
   "execution_count": 3,
   "id": "correct-pillow",
   "metadata": {},
   "outputs": [],
   "source": [
    "import numpy as np\n",
    "\n",
    "import gym\n",
    "from a2c_ppo_acktr.envs import make_vec_envs"
   ]
  },
  {
   "cell_type": "markdown",
   "id": "noted-swimming",
   "metadata": {},
   "source": [
    "## Simple gym"
   ]
  },
  {
   "cell_type": "code",
   "execution_count": 518,
   "id": "charitable-chicken",
   "metadata": {},
   "outputs": [],
   "source": [
    "env_name = 'PongNoFrameskip-v4'\n",
    "env = gym.make(env_name)"
   ]
  },
  {
   "cell_type": "code",
   "execution_count": 519,
   "id": "outside-suspect",
   "metadata": {},
   "outputs": [],
   "source": [
    "state = env.reset()\n",
    "prev_s = env.unwrapped._get_ram()"
   ]
  },
  {
   "cell_type": "code",
   "execution_count": 138,
   "id": "harmful-official",
   "metadata": {},
   "outputs": [
    {
     "name": "stdout",
     "output_type": "stream",
     "text": [
      "109\n"
     ]
    }
   ],
   "source": [
    "ram = env.unwrapped._get_ram()\n",
    "player_paddle_y = ram[51]\n",
    "print(player_paddle_y)"
   ]
  },
  {
   "cell_type": "code",
   "execution_count": 599,
   "id": "exterior-exclusive",
   "metadata": {},
   "outputs": [
    {
     "name": "stdout",
     "output_type": "stream",
     "text": [
      "203\n",
      "144\n",
      "112 144\n"
     ]
    }
   ],
   "source": [
    "_ = env.step(3)\n",
    "# next_s = env.unwrapped._get_ram()\n",
    "# print(next_s)\n",
    "\n",
    "ram = env.unwrapped._get_ram()\n",
    "ball_x = ram[49] \n",
    "ball_y = ram[54]  \n",
    "player_paddle_y = ram[51]\n",
    "cpu_paddle_y = ram[21]\n",
    "print(player_paddle_y)\n",
    "print(cpu_paddle_y)\n",
    "print(ball_x, ball_y)"
   ]
  },
  {
   "cell_type": "code",
   "execution_count": 596,
   "id": "reasonable-sight",
   "metadata": {},
   "outputs": [
    {
     "data": {
      "text/plain": [
       "True"
      ]
     },
     "execution_count": 596,
     "metadata": {},
     "output_type": "execute_result"
    }
   ],
   "source": [
    "env.render()"
   ]
  },
  {
   "cell_type": "code",
   "execution_count": 595,
   "id": "finnish-living",
   "metadata": {},
   "outputs": [],
   "source": [
    "env.close()"
   ]
  },
  {
   "cell_type": "markdown",
   "id": "daily-hundred",
   "metadata": {},
   "source": [
    "## Cloning"
   ]
  },
  {
   "cell_type": "code",
   "execution_count": 39,
   "id": "quick-bicycle",
   "metadata": {},
   "outputs": [],
   "source": [
    "env_name = 'PongNoFrameskip-v4'\n",
    "env = gym.make(env_name)"
   ]
  },
  {
   "cell_type": "code",
   "execution_count": 40,
   "id": "connected-fountain",
   "metadata": {},
   "outputs": [],
   "source": [
    "state = env.reset()\n",
    "init_ram = env.unwrapped._get_ram()"
   ]
  },
  {
   "cell_type": "code",
   "execution_count": 41,
   "id": "liquid-mobile",
   "metadata": {},
   "outputs": [
    {
     "name": "stdout",
     "output_type": "stream",
     "text": [
      "[192   0   0   0 110  38   0   7  72   1   0  58   0   0   0  63 255   0\n",
      " 255 253   0  20   0  24 128  32   1  86 247  86 247  86 247 134 243 245\n",
      " 243 240 240 242 242  32  32  64  64  64 188  65 189   0  20 109  37  37\n",
      "   0   0   0   0   0 109 109  37  37 192   0 192 192   1 192 202 247 202\n",
      " 247 202 247 202 247   0   0   0   0   0   0   0   0   0   0   0   0   0\n",
      "   0   0   0   0   0   0   0   0   0   0   0   0   0   0   0   0   0   0\n",
      "   0   0   0   0   0   0   0   0   0   0   0   0   0   0   0  54 236 242\n",
      " 121 240]\n",
      "[192   0   0   0 110  38   0   7  73   1   0  57   0   0   0  63 255   0\n",
      " 255 253   0  20   0  24 128  32   1  86 247  86 247  86 247 134 243 245\n",
      " 243 240 240 242 242  32  32  64  64  64 188  65 189   0  20 109  37  37\n",
      "   0   0   0   0   0 109 109  37  37 192 192 192 192   1 192 202 247 202\n",
      " 247 202 247 202 247   0   0   0   0   0   0   0   0   0   0   0   0   0\n",
      "   0   0   0   0   0   0   0   0   0   0   0   0   0   0   0   0   0   0\n",
      "   0   0   0   0   0   0   0   0   0   0   0   0   0   0   0  54 236 242\n",
      " 121 240]\n"
     ]
    }
   ],
   "source": [
    "_ = env.step(1)\n",
    "state_1 = env.unwrapped.clone_full_state()\n",
    "print(env.unwrapped._get_ram())\n",
    "_ = env.step(0)\n",
    "state_2 = env.unwrapped.clone_full_state()\n",
    "print(env.unwrapped._get_ram())"
   ]
  },
  {
   "cell_type": "code",
   "execution_count": 42,
   "id": "typical-proposal",
   "metadata": {},
   "outputs": [],
   "source": [
    "env.unwrapped.restore_full_state(state_1)\n",
    "state_2_restored = env.unwrapped.clone_full_state()"
   ]
  },
  {
   "cell_type": "code",
   "execution_count": 45,
   "id": "continuing-county",
   "metadata": {},
   "outputs": [
    {
     "name": "stdout",
     "output_type": "stream",
     "text": [
      "[192   0   0   0 110  38   0   7  73   1   0  57   0   0   0  63 255   0\n",
      " 255 253   0  20   0  24 128  32   1  86 247  86 247  86 247 134 243 245\n",
      " 243 240 240 242 242  32  32  64  64  64 188  65 189   0  20 109  37  37\n",
      "   0   0   0   0   0 109 109  37  37 192 192 192 192   1 192 202 247 202\n",
      " 247 202 247 202 247   0   0   0   0   0   0   0   0   0   0   0   0   0\n",
      "   0   0   0   0   0   0   0   0   0   0   0   0   0   0   0   0   0   0\n",
      "   0   0   0   0   0   0   0   0   0   0   0   0   0   0   0  54 236 242\n",
      " 121 240]\n"
     ]
    }
   ],
   "source": [
    "_ = env.step(0)\n",
    "state_2 = env.unwrapped.clone_full_state()\n",
    "print(env.unwrapped._get_ram())"
   ]
  },
  {
   "cell_type": "code",
   "execution_count": 43,
   "id": "controversial-geometry",
   "metadata": {},
   "outputs": [
    {
     "name": "stdout",
     "output_type": "stream",
     "text": [
      "True\n",
      "False\n"
     ]
    }
   ],
   "source": [
    "print(any(state_1 - state_2))\n",
    "print(any(state_1 - state_2_restored))"
   ]
  },
  {
   "cell_type": "code",
   "execution_count": 44,
   "id": "coral-suspect",
   "metadata": {},
   "outputs": [
    {
     "name": "stdout",
     "output_type": "stream",
     "text": [
      "[192   0   0   0 110  38   0   7  73   1   0  57   0   0   0  63 255   0\n",
      " 255 253   0  20   0  24 128  32   1  86 247  86 247  86 247 134 243 245\n",
      " 243 240 240 242 242  32  32  64  64  64 188  65 189   0  20 109  37  37\n",
      "   0   0   0   0   0 109 109  37  37 192 192 192 192   1 192 202 247 202\n",
      " 247 202 247 202 247   0   0   0   0   0   0   0   0   0   0   0   0   0\n",
      "   0   0   0   0   0   0   0   0   0   0   0   0   0   0   0   0   0   0\n",
      "   0   0   0   0   0   0   0   0   0   0   0   0   0   0   0  54 236 242\n",
      " 121 240]\n"
     ]
    }
   ],
   "source": [
    "print(env.unwrapped._get_ram())"
   ]
  },
  {
   "cell_type": "code",
   "execution_count": 17,
   "id": "still-calendar",
   "metadata": {},
   "outputs": [],
   "source": [
    "ram_2 = env.unwrapped._get_ram()"
   ]
  },
  {
   "cell_type": "code",
   "execution_count": 19,
   "id": "ahead-volunteer",
   "metadata": {},
   "outputs": [],
   "source": [
    "env.unwrapped.restore_full_state(env_init_state)\n",
    "ram_2_restored = env.unwrapped._get_ram()"
   ]
  },
  {
   "cell_type": "code",
   "execution_count": 22,
   "id": "younger-services",
   "metadata": {},
   "outputs": [
    {
     "data": {
      "text/plain": [
       "array([  0,   0,   0,   0,   0,   0,   0,   0, 254,   0,  60,   2,   0,\n",
       "         0,   0, 255,   0,   0,   0,   0,   0,   2,   0,   0,   0,   0,\n",
       "         0,   0,   0,   0,   0,   0,   0,   0,   0,   0,   0,   0,   0,\n",
       "         0,   0,   0,   0,   0,   0,   0,   0,   0,   0,   0,   2,   0,\n",
       "         0,   0,  60,   0,   0,   0,   0,   0,   0,   0,   0,   0,   0,\n",
       "         0,   0,   0,   0,   0,   0,   0,   0,   0,   0,   0,   0,   0,\n",
       "         0,   0,   0,   0,   0,   0,   0,   0,   0,   0,   0,   0,   0,\n",
       "         0,   0,   0,   0,   0,   0,   0,   0,   0,   0,   0,   0,   0,\n",
       "         0,   0,   0,   0,   0,   0,   0,   0,   0,   0,   0,   0,   0,\n",
       "         0,   0,   0,   0,   0,   0,   0,   0,   0,   0,   0], dtype=uint8)"
      ]
     },
     "execution_count": 22,
     "metadata": {},
     "output_type": "execute_result"
    }
   ],
   "source": [
    "init_ram - ram_2"
   ]
  },
  {
   "cell_type": "code",
   "execution_count": 23,
   "id": "given-terrain",
   "metadata": {},
   "outputs": [
    {
     "data": {
      "text/plain": [
       "array([  0,   0,   0,   0,   0,   0,   0,   0, 254,   0,  60,   2,   0,\n",
       "         0,   0, 255,   0,   0,   0,   0,   0,   2,   0,   0,   0,   0,\n",
       "         0,   0,   0,   0,   0,   0,   0,   0,   0,   0,   0,   0,   0,\n",
       "         0,   0,   0,   0,   0,   0,   0,   0,   0,   0,   0,   2,   0,\n",
       "         0,   0,  60,   0,   0,   0,   0,   0,   0,   0,   0,   0,   0,\n",
       "         0,   0,   0,   0,   0,   0,   0,   0,   0,   0,   0,   0,   0,\n",
       "         0,   0,   0,   0,   0,   0,   0,   0,   0,   0,   0,   0,   0,\n",
       "         0,   0,   0,   0,   0,   0,   0,   0,   0,   0,   0,   0,   0,\n",
       "         0,   0,   0,   0,   0,   0,   0,   0,   0,   0,   0,   0,   0,\n",
       "         0,   0,   0,   0,   0,   0,   0,   0,   0,   0,   0], dtype=uint8)"
      ]
     },
     "execution_count": 23,
     "metadata": {},
     "output_type": "execute_result"
    }
   ],
   "source": [
    "init_ram - ram_2_restored"
   ]
  },
  {
   "cell_type": "markdown",
   "id": "alert-hazard",
   "metadata": {},
   "source": [
    "## RAM Predictor"
   ]
  },
  {
   "cell_type": "code",
   "execution_count": 125,
   "id": "continent-apple",
   "metadata": {},
   "outputs": [],
   "source": [
    "env_name = 'PongNoFrameskip-v4'\n",
    "env = gym.make(env_name)"
   ]
  },
  {
   "cell_type": "code",
   "execution_count": 126,
   "id": "driven-australian",
   "metadata": {},
   "outputs": [],
   "source": [
    "_ = env.reset()\n",
    "for _ in range(np.random.randint(5, 10)):\n",
    "    _ = env.step(0)"
   ]
  },
  {
   "cell_type": "code",
   "execution_count": 127,
   "id": "persistent-japan",
   "metadata": {},
   "outputs": [],
   "source": [
    "actions = [0, 1, 1, 1, 1, 0, 1, 1, 2, 4, 5, 5, 5]"
   ]
  },
  {
   "cell_type": "code",
   "execution_count": 128,
   "id": "rough-hughes",
   "metadata": {},
   "outputs": [],
   "source": [
    "def predict(env, actions):\n",
    "    init_env_state = env.clone_full_state()\n",
    "    pred_ram_states = []\n",
    "    for a in actions:\n",
    "        _ = env.step(a)\n",
    "        ram_state = env.unwrapped._get_ram()\n",
    "        pred_ram_states.append(ram_state)\n",
    "    env.restore_full_state(init_env_state)\n",
    "    return pred_ram_states"
   ]
  },
  {
   "cell_type": "code",
   "execution_count": 129,
   "id": "affecting-engagement",
   "metadata": {},
   "outputs": [],
   "source": [
    "pred_ram_states = predict(env, actions)"
   ]
  },
  {
   "cell_type": "code",
   "execution_count": 130,
   "id": "angry-powder",
   "metadata": {},
   "outputs": [
    {
     "name": "stdout",
     "output_type": "stream",
     "text": [
      "False\n",
      "False\n",
      "False\n",
      "False\n",
      "False\n",
      "False\n",
      "False\n",
      "False\n",
      "False\n",
      "False\n",
      "False\n",
      "False\n",
      "False\n"
     ]
    }
   ],
   "source": [
    "for i, a in enumerate(actions):\n",
    "    _ = env.step(a)\n",
    "    ram_state = env.unwrapped._get_ram()\n",
    "    print(any(ram_state - pred_ram_states[i]))"
   ]
  },
  {
   "cell_type": "markdown",
   "id": "medical-temperature",
   "metadata": {},
   "source": [
    "## Subproc-test"
   ]
  },
  {
   "cell_type": "code",
   "execution_count": 84,
   "id": "moderate-execution",
   "metadata": {},
   "outputs": [],
   "source": [
    "env_name = \"PongNoFrameskip-v4\"\n",
    "seed = 1\n",
    "num_procs = 1\n",
    "gamma = 0.99\n",
    "log_dir = \"/tmp/gym\"\n",
    "device = \"cuda:0\""
   ]
  },
  {
   "cell_type": "code",
   "execution_count": 85,
   "id": "golden-update",
   "metadata": {},
   "outputs": [],
   "source": [
    "envs = make_vec_envs(env_name, seed, num_procs, gamma, log_dir, device, False)\n",
    "_ = envs.reset()"
   ]
  },
  {
   "cell_type": "code",
   "execution_count": 87,
   "id": "compatible-muscle",
   "metadata": {},
   "outputs": [],
   "source": [
    "clone_fns = envs.get_attr(\"clone_full_state\")\n",
    "init_env_states = [cf() for cf in clone_fns]"
   ]
  },
  {
   "cell_type": "code",
   "execution_count": 88,
   "id": "paperback-commander",
   "metadata": {},
   "outputs": [
    {
     "data": {
      "text/plain": [
       "[array([151, 213,   4, ..., 186, 209, 186], dtype=uint8)]"
      ]
     },
     "execution_count": 88,
     "metadata": {},
     "output_type": "execute_result"
    }
   ],
   "source": [
    "init_env_states"
   ]
  },
  {
   "cell_type": "code",
   "execution_count": null,
   "id": "floral-matter",
   "metadata": {},
   "outputs": [],
   "source": []
  }
 ],
 "metadata": {
  "kernelspec": {
   "display_name": "Python 3",
   "language": "python",
   "name": "python3"
  },
  "language_info": {
   "codemirror_mode": {
    "name": "ipython",
    "version": 3
   },
   "file_extension": ".py",
   "mimetype": "text/x-python",
   "name": "python",
   "nbconvert_exporter": "python",
   "pygments_lexer": "ipython3",
   "version": "3.8.5"
  }
 },
 "nbformat": 4,
 "nbformat_minor": 5
}
